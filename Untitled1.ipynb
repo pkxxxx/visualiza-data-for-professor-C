{
 "cells": [
  {
   "cell_type": "code",
   "execution_count": 2,
   "id": "30c43d5b",
   "metadata": {},
   "outputs": [],
   "source": [
    "import pandas as pd\n",
    "\n",
    "# 加载 CSV 文件\n",
    "data_path = 'Results_21Mar2022.csv'\n",
    "data = pd.read_csv(data_path)\n",
    "\n",
    "# 假设列 'mean_ghgs_ch4', 'mean_ghgs_n2o', 'mean_ghgs_co2' 分别代表了 CH4, N2O, 和 CO2 的排放量。\n",
    "# 创建一个新的总排放量列\n",
    "data['environment_summary'] = data['mean_land'] + data['mean_watscar'] + data['mean_eut']+ data['mean_bio']+ data['mean_watuse']+ data['mean_acid']\n",
    "\n",
    "# 现在 data DataFrame 包含了新的 total_ghg 列，您可以保存这个 DataFrame 或直接在内存中使用。\n",
    "# 如果您需要将更改后的 DataFrame 保存到新的 CSV 文件，您可以使用：\n",
    "data.to_csv('Environment_Results_21Mar2022.csv', index=False)"
   ]
  },
  {
   "cell_type": "code",
   "execution_count": 3,
   "id": "a4ea4850",
   "metadata": {},
   "outputs": [],
   "source": [
    "import pandas as pd\n",
    "\n",
    "# 加载 CSV 文件\n",
    "data_path = 'Results_21Mar2022.csv'\n",
    "data = pd.read_csv(data_path)\n",
    "\n",
    "# 假设列 'mean_ghgs_ch4', 'mean_ghgs_n2o', 'mean_ghgs_co2' 分别代表了 CH4, N2O, 和 CO2 的排放量。\n",
    "# 创建一个新的总排放量列\n",
    "data['modified_agegroup'] = data['mean_land'] + data['mean_watscar'] + data['mean_eut']\\\n",
    "        + data['mean_bio']+ data['mean_watuse']+ data['mean_acid']+ data['mean_ghgs']+ data['mean_ghgs_ch4']+ data['mean_ghgs_n2o']\n",
    "\n",
    "# 现在 data DataFrame 包含了新的 total_ghg 列，您可以保存这个 DataFrame 或直接在内存中使用。\n",
    "# 如果您需要将更改后的 DataFrame 保存到新的 CSV 文件，您可以使用：\n",
    "data.to_csv('All_Impact_Results_21Mar2022.csv', index=False)"
   ]
  },
  {
   "cell_type": "code",
   "execution_count": 4,
   "id": "01aa65da",
   "metadata": {},
   "outputs": [],
   "source": [
    "import pandas as pd\n",
    "\n",
    "# 读取CSV文件\n",
    "df = pd.read_csv('Results_21Mar2022.csv')\n",
    "\n",
    "# 定义函数，根据年龄区间划分年龄组\n",
    "def categorize_age_group(age_range):\n",
    "    # 提取年龄区间的起始年龄\n",
    "    start_age = int(age_range.split('-')[0])\n",
    "    # 根据起始年龄划分到不同的年龄组\n",
    "    return '>=40' if start_age >= 40 else '<40'\n",
    "\n",
    "# 应用函数划分年龄组\n",
    "df['modified_age'] = df['age_group'].apply(categorize_age_group)\n",
    "\n",
    "# 保存修改后的DataFrame到新的CSV文件\n",
    "df.to_csv('Modified_age_Results_Age_Group.csv', index=False)"
   ]
  },
  {
   "cell_type": "code",
   "execution_count": null,
   "id": "e8f09cb7",
   "metadata": {},
   "outputs": [],
   "source": []
  }
 ],
 "metadata": {
  "kernelspec": {
   "display_name": "Python 3 (ipykernel)",
   "language": "python",
   "name": "python3"
  },
  "language_info": {
   "codemirror_mode": {
    "name": "ipython",
    "version": 3
   },
   "file_extension": ".py",
   "mimetype": "text/x-python",
   "name": "python",
   "nbconvert_exporter": "python",
   "pygments_lexer": "ipython3",
   "version": "3.11.5"
  }
 },
 "nbformat": 4,
 "nbformat_minor": 5
}
